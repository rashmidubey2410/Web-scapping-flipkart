{
 "cells": [
  {
   "cell_type": "markdown",
   "metadata": {},
   "source": [
    "# To extract user reviews of Lenovo mobile phones from Flipkart\n"
   ]
  },
  {
   "cell_type": "markdown",
   "metadata": {},
   "source": [
    "_____"
   ]
  },
  {
   "cell_type": "code",
   "execution_count": 1,
   "metadata": {},
   "outputs": [],
   "source": [
    "import requests\n",
    "import sys\n",
    "from bs4 import BeautifulSoup\n",
    "import time"
   ]
  },
  {
   "cell_type": "code",
   "execution_count": 6,
   "metadata": {},
   "outputs": [
    {
     "data": {
      "text/plain": [
       "10"
      ]
     },
     "execution_count": 6,
     "metadata": {},
     "output_type": "execute_result"
    }
   ],
   "source": [
    "fout = requests.get('https://www.flipkart.com/lenovo-vibe-k5-plus-3-gb-dark-grey-16-gb/p/itmeuyd9pxxg684g?pid=MOBEKEF86VVUE8G2&srno=b_1_1&otracker=browse&lid=LSTMOBEKEF86VVUE8G2YCW5OP&fm=organic&iid=166a05ff-39aa-417e-b8b6-aee4d1da95dc.MOBEKEF86VVUE8G2.SEARCH')  \n",
    "soup = BeautifulSoup(fout.text, 'html.parser')  \n",
    "rslt = soup.find_all('div', attrs={'class':'col _390CkK'}) \n",
    "len(rslt)  "
   ]
  },
  {
   "cell_type": "code",
   "execution_count": 7,
   "metadata": {},
   "outputs": [
    {
     "data": {
      "text/plain": [
       "[('5LENOVO VIBE K5 PLUS IS A EXCELLENT PHONE.',\n",
       "  'LENOVO VIBE K5 PLUS IS AN EXCELLENT PHONE.FAST & SMOOTH WORKING/ PROCESSING.BATTERY POWER SHOULD BE INCREASE. BUT AT THIS PRICE THIS PHONE IS SUPER.VERY FAST DELIVERY BY FLIP-KART.I am using this phone from last 15 days. Excellent phone.READ MORE',\n",
       "  'ANAND RAJ',\n",
       "  '/reviews/27552305-0262-4a29-af5d-443f7be1f394'),\n",
       " ('5Mind-blowing purchase',\n",
       "  \"It is a brilliant phone for the price. 3 GB memory handles most of the tasks thrown at it. It can handle most games like Asphalt etc.The audio output is good, but Dolby Atmos, when activated, just adds another dimension to the output through headsets. There are no headsets in the package, so it would be good to invest in a good headset like Senheiser or SkullCandy if you really are passionate about music. (You can buy a Bose, but why you'd buy this phone if you could afford a Bose is beyond...READ MORE\",\n",
       "  'Navin Quadros',\n",
       "  '/reviews/0176f6e0-23be-4100-9d7f-f9629bf93406'),\n",
       " ('4An excellent product in this range',\n",
       "  'very good mobile, built quality and feel in the hand is very good... very fast...3 GB RAM 16 GB internal memory...,,, heats up a bit though but thats not an issue once u upgrade the software,, camera quality is good for proce range...Best buy in this price range...Excellent service from flipkart,,,, package was delivered safely in excellent condition and much before the expected date..trust only flipcart....great experienceREAD MORE',\n",
       "  'Dr. RP Singh',\n",
       "  '/reviews/b3f4c420-d3d6-4957-bd5b-f07e728b036f'),\n",
       " ('5Phone is good',\n",
       "  'I order this phone on the launch and got the phone next day. There is no earphones in the box. Look is very very classy, aluminum back also awesome. After doing software update (85 mb) phone will not heat up, display is superb and sound quality is very loud and clear. Camera is ok, front camera has an auto beauty option which is good. While playing heavy games no hanging issues ( played asphalt 8, n.o.v.a 3, and WWE Immortals).No protective glass such as Gorilla glass 3, you have to purchase ...READ MORE',\n",
       "  'Dhruv Agarwal',\n",
       "  '/reviews/dea9cafe-431b-4021-9a06-f293b5952ce2'),\n",
       " ('5Right choice for Music lovers.',\n",
       "  'I am writing this after enjoyed the phone for 6 months & still enjoying. First of all special Thanks to Flipkart for giving me a great deal(10% discount), great service. Now coming to the point I would like to review the phone in Pros & Cons format. Pros:- (1) Great sound quality as there is DOLBY ATMOS with Dual speakers. I never see a phone which has sound quality like this. Believe me, the phone has Awesome sound quality (just like a miracle) especially when we put phone inverse on the...READ MORE',\n",
       "  'Vatsal Pathak',\n",
       "  '/reviews/7eb3075f-12ee-4d18-b1a5-ca0a5ed99af3'),\n",
       " ('4Four Stars',\n",
       "  \"Decent ProductI purchased this phone for 7499 and I won't suggest anyone to buy it for 8499 as u can go for redmi 4 3GB variant (8999) or redmi 4A variants ,if u are able to get them in flash sales I chose this phone over redmi 4 as I had a budget of less than 8000 and this was and is the best option available in this price.After 3weeks of heavy usage like recording 1080p videos,Playing high end games like modern combat 5 ,WWE 2K ,Dead trigger 2 ,Asphalt 8 ,WWE immortals NOVA etc.I am givin...READ MORE\",\n",
       "  'Utkarsh Sharma',\n",
       "  '/reviews/9c1b503e-4dd2-4548-8d7f-02976add8bb9'),\n",
       " ('4Excellent product with fast delivery',\n",
       "  'Hi friends , Am justi i ordered lenova vibe k5 3gb ram on 7-8-16 i received the product on 9-8-16 morning itself. am very much impressed with the fast delivery  . now comes to the product review with just one day user experience  i cant say much but i can share my views about the smart phone. i bought golden color i thought it will give impressively  look with that color before i purchase but after receiving  the product am little bit worried because  its not pure golden color glossy  look bu...READ MORE',\n",
       "  'Flipkart Customer',\n",
       "  '/reviews/e8dc04ce-e3a6-40bd-8aa6-dfeff904caed')]"
      ]
     },
     "execution_count": 7,
     "metadata": {},
     "output_type": "execute_result"
    }
   ],
   "source": [
    "records = [] \n",
    "for i in rslt:  \n",
    "    title = i.find('div').text[0:] \n",
    "    rev = i.find('div', attrs={'class': 'qwjRop'}).text[0:]\n",
    "    name = i.find('p', attrs={'class' :'_3LYOAd'}).text[0:]\n",
    "    link = i.find('a')['href']\n",
    "    records.append((title,rev,name, link))\n",
    "    \n",
    "records[0:7]    "
   ]
  },
  {
   "cell_type": "code",
   "execution_count": 8,
   "metadata": {},
   "outputs": [
    {
     "data": {
      "text/html": [
       "<div>\n",
       "<style scoped>\n",
       "    .dataframe tbody tr th:only-of-type {\n",
       "        vertical-align: middle;\n",
       "    }\n",
       "\n",
       "    .dataframe tbody tr th {\n",
       "        vertical-align: top;\n",
       "    }\n",
       "\n",
       "    .dataframe thead th {\n",
       "        text-align: right;\n",
       "    }\n",
       "</style>\n",
       "<table border=\"1\" class=\"dataframe\">\n",
       "  <thead>\n",
       "    <tr style=\"text-align: right;\">\n",
       "      <th></th>\n",
       "      <th>Stars &amp; Title</th>\n",
       "      <th>Reviews</th>\n",
       "      <th>Name</th>\n",
       "      <th>Link</th>\n",
       "    </tr>\n",
       "  </thead>\n",
       "  <tbody>\n",
       "    <tr>\n",
       "      <td>0</td>\n",
       "      <td>5LENOVO VIBE K5 PLUS IS A EXCELLENT PHONE.</td>\n",
       "      <td>LENOVO VIBE K5 PLUS IS AN EXCELLENT PHONE.FAST...</td>\n",
       "      <td>ANAND RAJ</td>\n",
       "      <td>/reviews/27552305-0262-4a29-af5d-443f7be1f394</td>\n",
       "    </tr>\n",
       "    <tr>\n",
       "      <td>1</td>\n",
       "      <td>5Mind-blowing purchase</td>\n",
       "      <td>It is a brilliant phone for the price. 3 GB me...</td>\n",
       "      <td>Navin Quadros</td>\n",
       "      <td>/reviews/0176f6e0-23be-4100-9d7f-f9629bf93406</td>\n",
       "    </tr>\n",
       "    <tr>\n",
       "      <td>2</td>\n",
       "      <td>4An excellent product in this range</td>\n",
       "      <td>very good mobile, built quality and feel in th...</td>\n",
       "      <td>Dr. RP Singh</td>\n",
       "      <td>/reviews/b3f4c420-d3d6-4957-bd5b-f07e728b036f</td>\n",
       "    </tr>\n",
       "    <tr>\n",
       "      <td>3</td>\n",
       "      <td>5Phone is good</td>\n",
       "      <td>I order this phone on the launch and got the p...</td>\n",
       "      <td>Dhruv Agarwal</td>\n",
       "      <td>/reviews/dea9cafe-431b-4021-9a06-f293b5952ce2</td>\n",
       "    </tr>\n",
       "    <tr>\n",
       "      <td>4</td>\n",
       "      <td>5Right choice for Music lovers.</td>\n",
       "      <td>I am writing this after enjoyed the phone for ...</td>\n",
       "      <td>Vatsal Pathak</td>\n",
       "      <td>/reviews/7eb3075f-12ee-4d18-b1a5-ca0a5ed99af3</td>\n",
       "    </tr>\n",
       "  </tbody>\n",
       "</table>\n",
       "</div>"
      ],
      "text/plain": [
       "                                Stars & Title  \\\n",
       "0  5LENOVO VIBE K5 PLUS IS A EXCELLENT PHONE.   \n",
       "1                      5Mind-blowing purchase   \n",
       "2         4An excellent product in this range   \n",
       "3                              5Phone is good   \n",
       "4             5Right choice for Music lovers.   \n",
       "\n",
       "                                             Reviews           Name  \\\n",
       "0  LENOVO VIBE K5 PLUS IS AN EXCELLENT PHONE.FAST...      ANAND RAJ   \n",
       "1  It is a brilliant phone for the price. 3 GB me...  Navin Quadros   \n",
       "2  very good mobile, built quality and feel in th...   Dr. RP Singh   \n",
       "3  I order this phone on the launch and got the p...  Dhruv Agarwal   \n",
       "4  I am writing this after enjoyed the phone for ...  Vatsal Pathak   \n",
       "\n",
       "                                            Link  \n",
       "0  /reviews/27552305-0262-4a29-af5d-443f7be1f394  \n",
       "1  /reviews/0176f6e0-23be-4100-9d7f-f9629bf93406  \n",
       "2  /reviews/b3f4c420-d3d6-4957-bd5b-f07e728b036f  \n",
       "3  /reviews/dea9cafe-431b-4021-9a06-f293b5952ce2  \n",
       "4  /reviews/7eb3075f-12ee-4d18-b1a5-ca0a5ed99af3  "
      ]
     },
     "execution_count": 8,
     "metadata": {},
     "output_type": "execute_result"
    }
   ],
   "source": [
    "import pandas as pd  \n",
    "df = pd.DataFrame(records, columns=['Stars & Title','Reviews', 'Name', 'Link']) #Dataframe is suitable for tabular form and columns\n",
    "df.head() "
   ]
  },
  {
   "cell_type": "code",
   "execution_count": 9,
   "metadata": {},
   "outputs": [],
   "source": [
    "df.to_csv('FlipkartReviews.csv', index=False, encoding='utf-8')"
   ]
  },
  {
   "cell_type": "code",
   "execution_count": null,
   "metadata": {},
   "outputs": [],
   "source": []
  },
  {
   "cell_type": "code",
   "execution_count": null,
   "metadata": {},
   "outputs": [],
   "source": []
  }
 ],
 "metadata": {
  "kernelspec": {
   "display_name": "Python 3",
   "language": "python",
   "name": "python3"
  },
  "language_info": {
   "codemirror_mode": {
    "name": "ipython",
    "version": 3
   },
   "file_extension": ".py",
   "mimetype": "text/x-python",
   "name": "python",
   "nbconvert_exporter": "python",
   "pygments_lexer": "ipython3",
   "version": "3.7.4"
  }
 },
 "nbformat": 4,
 "nbformat_minor": 1
}
